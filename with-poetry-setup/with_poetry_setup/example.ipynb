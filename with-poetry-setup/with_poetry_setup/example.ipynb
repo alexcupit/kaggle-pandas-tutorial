{
 "cells": [
  {
   "cell_type": "code",
   "execution_count": 2,
   "metadata": {},
   "outputs": [
    {
     "name": "stdout",
     "output_type": "stream",
     "text": [
      "          cars  prices\n",
      "0  Ford Fiesta    5000\n",
      "1  Nissan Juke    7900\n",
      "2    Volvo V40   10654\n"
     ]
    }
   ],
   "source": [
    "import pandas as pd;\n",
    "\n",
    "\n",
    "sample_data = {\n",
    "    'cars': ['Ford Fiesta', 'Nissan Juke', 'Volvo V40'],\n",
    "    'prices': [5000, 7900, 10654]\n",
    "}\n",
    "\n",
    "cars_df = pd.DataFrame.from_dict(data=sample_data)\n",
    "print(cars_df)"
   ]
  },
  {
   "cell_type": "code",
   "execution_count": null,
   "metadata": {},
   "outputs": [],
   "source": []
  }
 ],
 "metadata": {
  "kernelspec": {
   "display_name": "Python 3 (ipykernel)",
   "language": "python",
   "name": "python3"
  },
  "language_info": {
   "codemirror_mode": {
    "name": "ipython",
    "version": 3
   },
   "file_extension": ".py",
   "mimetype": "text/x-python",
   "name": "python",
   "nbconvert_exporter": "python",
   "pygments_lexer": "ipython3",
   "version": "3.11.3"
  }
 },
 "nbformat": 4,
 "nbformat_minor": 2
}
